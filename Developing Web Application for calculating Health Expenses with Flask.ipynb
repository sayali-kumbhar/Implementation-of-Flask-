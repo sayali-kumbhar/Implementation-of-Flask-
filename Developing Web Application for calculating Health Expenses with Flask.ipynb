{
 "cells": [
  {
   "cell_type": "code",
   "execution_count": null,
   "id": "b33a999b",
   "metadata": {},
   "outputs": [],
   "source": [
    "import pandas as pd\n",
    "import numpy as np\n",
    "from sklearn.model_selection import train_test_split\n",
    "from sklearn.feature_extraction.text import CountVectorizer,TfidfVectorizer\n",
    "from sklearn.linear_model import LinearRegression \n",
    "from sklearn.preprocessing import LabelEncoder\n",
    "import pickle"
   ]
  },
  {
   "cell_type": "markdown",
   "id": "df1e34a7",
   "metadata": {},
   "source": [
    "## reading dataset"
   ]
  },
  {
   "cell_type": "code",
   "execution_count": null,
   "id": "8458de24",
   "metadata": {},
   "outputs": [],
   "source": [
    "data=pd.read_csv(\"insurance.csv\")\n",
    "data.head()\n"
   ]
  },
  {
   "cell_type": "code",
   "execution_count": null,
   "id": "aabc669f",
   "metadata": {},
   "outputs": [],
   "source": [
    "data[\"region\"].value_counts()"
   ]
  },
  {
   "cell_type": "code",
   "execution_count": null,
   "id": "fb5bb2bd",
   "metadata": {},
   "outputs": [],
   "source": [
    "data[\"smoker\"].value_counts()"
   ]
  },
  {
   "cell_type": "markdown",
   "id": "971470ad",
   "metadata": {},
   "source": [
    "\n",
    "## Label Encoding for categorical feature"
   ]
  },
  {
   "cell_type": "code",
   "execution_count": null,
   "id": "f6073a7d",
   "metadata": {},
   "outputs": [],
   "source": [
    "e=LabelEncoder()\n",
    "e.fit(data[\"sex\"])\n",
    "data[\"sex\"]=e.transform(data[\"sex\"])"
   ]
  },
  {
   "cell_type": "code",
   "execution_count": null,
   "id": "eb283b9f",
   "metadata": {},
   "outputs": [],
   "source": [
    "e.fit(data[\"smoker\"])\n",
    "data[\"smoker\"]=e.transform(data[\"smoker\"])"
   ]
  },
  {
   "cell_type": "code",
   "execution_count": null,
   "id": "fc9407f8",
   "metadata": {},
   "outputs": [],
   "source": [
    "e.fit(data[\"region\"])\n",
    "data[\"region\"]=e.transform(data[\"region\"])\n"
   ]
  },
  {
   "cell_type": "code",
   "execution_count": null,
   "id": "cce6e439",
   "metadata": {},
   "outputs": [],
   "source": [
    "data.head()"
   ]
  },
  {
   "cell_type": "code",
   "execution_count": null,
   "id": "a86fb5b5",
   "metadata": {},
   "outputs": [],
   "source": [
    "x=data[[\"age\", \"bmi\", \"children\", \"sex\", \"smoker\", \"region\"]]\n",
    "y=data['charges']"
   ]
  },
  {
   "cell_type": "markdown",
   "id": "0d0bb8d5",
   "metadata": {},
   "source": [
    "## splitting dataset "
   ]
  },
  {
   "cell_type": "code",
   "execution_count": null,
   "id": "4c426f78",
   "metadata": {},
   "outputs": [],
   "source": [
    "x_train, x_test, y_train, y_test = train_test_split(x, y, test_size=0.3, random_state=0)\n",
    "print(x_train.shape,y_train.shape)\n",
    "print(x_test.shape,y_test.shape)"
   ]
  },
  {
   "cell_type": "markdown",
   "id": "58127632",
   "metadata": {},
   "source": [
    "## applying LinearRegression"
   ]
  },
  {
   "cell_type": "code",
   "execution_count": null,
   "id": "a9be02b8",
   "metadata": {},
   "outputs": [],
   "source": [
    "linreg = LinearRegression()\n",
    "linreg.fit(x_train, y_train)"
   ]
  },
  {
   "cell_type": "markdown",
   "id": "f5e2b7fb",
   "metadata": {},
   "source": [
    "\n",
    "## checking accuracy"
   ]
  },
  {
   "cell_type": "code",
   "execution_count": null,
   "id": "f1284f19",
   "metadata": {},
   "outputs": [],
   "source": [
    "predictions = linreg.predict(x_test)\n",
    "linreg.score(x_test,y_test)"
   ]
  },
  {
   "cell_type": "code",
   "execution_count": null,
   "id": "4bad9a70",
   "metadata": {},
   "outputs": [],
   "source": [
    "file = open(\"expense_model.pkl\", 'wb')\n",
    "pickle.dump(linreg, file)"
   ]
  },
  {
   "cell_type": "markdown",
   "id": "c8012505",
   "metadata": {},
   "source": [
    "\n",
    "## buiding web app using Flask"
   ]
  },
  {
   "cell_type": "code",
   "execution_count": null,
   "id": "9f4ae9a0",
   "metadata": {},
   "outputs": [],
   "source": [
    "from flask import Flask, render_template, request\n",
    "import pickle \n",
    "app = Flask(__name__)\n",
    "model = pickle.load(open('expense_model.pkl','rb')) #read mode\n",
    "@app.route(\"/\")\n",
    "def home():\n",
    "    return render_template('index.html')\n",
    "@app.route(\"/predict\", methods=['GET','POST'])\n",
    "def predict():\n",
    "    if request.method == 'POST':\n",
    "        #access the data from form\n",
    "        age=int(request.form[\"age\"])\n",
    "        bmi=int(request.form[\"bmi\"])\n",
    "        children=int(request.form[\"children\"])\n",
    "        Sex=int(request.form[\"Sex\"])\n",
    "        Smoker=int(request.form[\"Smoker\"])\n",
    "        Region=int(request.form[\"Region\"])\n",
    "        input_cols=[[age, bmi, children, Sex, Smoker, Region]]\n",
    "        prediction=model.predict(input_cols)\n",
    "        output=round(prediction[0], 2)\n",
    "        return render_template(\"index.html\", prediction_text='Your predicted annual Healthcare Expense is $ {}'.format(output))\n",
    "if __name__ == \"__main__\":\n",
    "    app.run()"
   ]
  }
 ],
 "metadata": {
  "kernelspec": {
   "display_name": "Python 3 (ipykernel)",
   "language": "python",
   "name": "python3"
  },
  "language_info": {
   "codemirror_mode": {
    "name": "ipython",
    "version": 3
   },
   "file_extension": ".py",
   "mimetype": "text/x-python",
   "name": "python",
   "nbconvert_exporter": "python",
   "pygments_lexer": "ipython3",
   "version": "3.9.12"
  }
 },
 "nbformat": 4,
 "nbformat_minor": 5
}
